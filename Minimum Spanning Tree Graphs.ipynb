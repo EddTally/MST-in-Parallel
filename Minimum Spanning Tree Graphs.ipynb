{
 "cells": [
  {
   "cell_type": "code",
   "execution_count": 52,
   "metadata": {},
   "outputs": [
    {
     "name": "stdout",
     "output_type": "stream",
     "text": [
      "[0.01715162 0.00964831 0.00908716 0.00857875 0.00881914 0.00907129\n",
      " 0.01038252 0.00901574 0.00973279 0.00927481]\n",
      "Mean:  0.0100762132\n"
     ]
    }
   ],
   "source": [
    "from matplotlib import pyplot as plt\n",
    "import numpy as np\n",
    "\n",
    "SerialRuntime = np.array([0.017151617, 0.009648312, 0.009087164, 0.008578752, 0.008819135, 0.009071293, 0.010382515,\n",
    "                          0.009015741, 0.009732792, 0.009274811])\n",
    "print(SerialRuntime)\n",
    "print(\"Mean: \" , np.mean(SerialRuntime))\n"
   ]
  },
  {
   "cell_type": "markdown",
   "metadata": {},
   "source": [
    "#### Parallel Runtime vs threads iteration 1"
   ]
  },
  {
   "cell_type": "code",
   "execution_count": 53,
   "metadata": {},
   "outputs": [
    {
     "name": "stdout",
     "output_type": "stream",
     "text": [
      "Mean for 1 thread:  0.021411144555555553\n",
      "Mean for 2 threads:  0.022336324800000005\n",
      "Mean for 3 threads:  0.022909854700000003\n",
      "Mean for 4 threads:  0.023039108\n",
      "Mean for 5 threads:  0.0237195954\n",
      "Mean for 6 threads:  0.024517045600000002\n",
      "Mean for 7 threads:  0.0258838853\n",
      "Mean for 8 threads:  0.026559560699999995\n",
      "[0.0100762132, 0.021411144555555553, 0.022336324800000005, 0.022909854700000003, 0.023039108, 0.0237195954, 0.024517045600000002, 0.0258838853, 0.026559560699999995]\n"
     ]
    }
   ],
   "source": [
    "Threads = np.array([\"Sequential\", 1, 2, 3, 4, 5, 6, 7, 8])\n",
    "Means = []\n",
    "Means.append(np.mean(SerialRuntime))\n",
    "\n",
    "ParallelRuntime1thread = np.array([0.021753781, 0.021472, 0.021376945 ,0.021217776 ,0.02134663 ,0.021330951, 0.021405937 ,0.021394067 , 0.021402214])\n",
    "print(\"Mean for 1 thread: \" , np.mean(ParallelRuntime1thread))\n",
    "Means.append(np.mean(ParallelRuntime1thread))\n",
    "\n",
    "ParallelRuntime2thread = np.array([0.022629155 ,0.022301157 ,0.022223776 ,0.022048905 ,0.022467961 ,0.02227562 ,0.022196554 ,\n",
    "                                    0.022562244 ,0.022408593 ,0.022249283 ])\n",
    "print(\"Mean for 2 threads: \" , np.mean(ParallelRuntime2thread))\n",
    "Means.append(np.mean(ParallelRuntime2thread))\n",
    "\n",
    "ParallelRuntime3thread = np.array([0.023653694 ,0.022976628 ,0.022562349 ,0.022991313 ,0.022442767 ,0.022703315 ,\n",
    "                                   0.023059011 ,0.023074576, 0.022873046 ,0.022761848 ])\n",
    "print(\"Mean for 3 threads: \" , np.mean(ParallelRuntime3thread))\n",
    "Means.append(np.mean(ParallelRuntime3thread))\n",
    "\n",
    "ParallelRuntime4thread = np.array([0.02342936 ,0.022603392 ,0.022487624 ,0.023529549 ,0.022784741,\n",
    "                                   0.023282809, 0.022161316 ,0.022758132 ,0.023521847 ,0.02383231])\n",
    "print(\"Mean for 4 threads: \" , np.mean(ParallelRuntime4thread))\n",
    "Means.append(np.mean(ParallelRuntime4thread))\n",
    "\n",
    "ParallelRuntime5thread = np.array([0.024026257, 0.025608396 ,0.023116127 ,0.023594352 ,0.022813833 ,0.024520464 ,\n",
    "                                   0.023058857 ,0.024404722,0.023132923 ,0.022920023])\n",
    "print(\"Mean for 5 threads: \" , np.mean(ParallelRuntime5thread))\n",
    "Means.append(np.mean(ParallelRuntime5thread))\n",
    "\n",
    "ParallelRuntime6thread = np.array([0.024503207 ,0.025670195 ,0.023897382 ,0.024003534 ,0.025042984 ,\n",
    "                                   0.025236042 ,0.024187981, 0.024375374,  0.023938015, 0.024315742 ])\n",
    "print(\"Mean for 6 threads: \" , np.mean(ParallelRuntime6thread))\n",
    "Means.append(np.mean(ParallelRuntime6thread))\n",
    "\n",
    "ParallelRuntime7thread = np.array([0.02718535 ,0.025624097 ,0.025619896 ,0.025934247,0.025338567,\n",
    "                                  0.026453214 ,0.025548982 ,0.025554003 , 0.025445586 ,0.026134911 ])\n",
    "print(\"Mean for 7 threads: \" , np.mean(ParallelRuntime7thread))\n",
    "Means.append(np.mean(ParallelRuntime7thread))\n",
    "\n",
    "ParallelRuntime8thread = np.array([0.027064664 ,0.026221579 ,0.026965677 ,0.026200136 ,0.026138148 ,\n",
    "                                    0.026134977 ,0.027163025 , 0.026427685 ,0.026571894 ,0.026707822])\n",
    "print(\"Mean for 8 threads: \" , np.mean(ParallelRuntime8thread))\n",
    "Means.append(np.mean(ParallelRuntime8thread))\n",
    "\n",
    "print(Means)"
   ]
  },
  {
   "cell_type": "code",
   "execution_count": 54,
   "metadata": {},
   "outputs": [
    {
     "data": {
      "image/png": "[encoded data removed]",
      "text/plain": [
       "<Figure size 432x288 with 1 Axes>"
      ]
     },
     "metadata": {},
     "output_type": "display_data"
    }
   ],
   "source": [
    "fig = plt.figure()\n",
    "fig.suptitle(\"Time taken for First Iteration of parallel program\")\n",
    "\n",
    "plt.plot(Threads, Means, label = 'Time Taken (s)')\n",
    "\n",
    "plt.xlabel('Threads')\n",
    "plt.ylabel('Time Taken (s)')\n",
    "\n",
    "plt.legend()\n",
    "plt.show()"
   ]
  },
  {
   "cell_type": "markdown",
   "metadata": {},
   "source": [
    "#### Iteration 2 "
   ]
  },
  {
   "cell_type": "code",
   "execution_count": 55,
   "metadata": {},
   "outputs": [
    {
     "name": "stdout",
     "output_type": "stream",
     "text": [
      "Mean for 1 thread:  0.0254052462\n",
      "Mean for 2 threads:  0.0259512859\n",
      "Mean for 3 threads:  0.026784410666666664\n",
      "Mean for 4 threads:  0.027272673000000004\n",
      "Mean for 5 threads:  0.028636231\n",
      "Mean for 6 threads:  0.0301455372\n",
      "Mean for 7 threads:  0.03161788459999999\n",
      "Mean for 8 threads:  0.033849621200000006\n",
      "[0.0100762132, 0.0254052462, 0.0259512859, 0.026784410666666664, 0.027272673000000004, 0.028636231, 0.0301455372, 0.03161788459999999, 0.033849621200000006]\n"
     ]
    }
   ],
   "source": [
    "Threads = np.array([\"Sequential\", 1, 2, 3, 4, 5, 6, 7, 8])\n",
    "Means2 = []\n",
    "Means2.append(np.mean(SerialRuntime))\n",
    "\n",
    "ParallelRuntime1thread = np.array([0.025700726 , 0.025450135 ,  0.025288608  ,0.02521649  , 0.025310048  , 0.025299333 , \n",
    "                                   0.025293525 , 0.025223979, 0.025628981, 0.025640637 ])\n",
    "print(\"Mean for 1 thread: \" , np.mean(ParallelRuntime1thread))\n",
    "Means2.append(np.mean(ParallelRuntime1thread))\n",
    "\n",
    "ParallelRuntime2thread = np.array([0.02595398 ,0.025894117 ,0.025914303 ,  0.026141849 , 0.026867913 ,0.025628875\n",
    "                                   ,0.02547895 ,0.02560822,0.02624057 ,0.025784082])\n",
    "print(\"Mean for 2 threads: \" , np.mean(ParallelRuntime2thread))\n",
    "Means2.append(np.mean(ParallelRuntime2thread))\n",
    "\n",
    "ParallelRuntime3thread = np.array([0.02663726 ,0.026449882 ,0.026119004  ,0.027711535,0.027440911 ,0.026406018,0.025609549, \n",
    "                                  0.027149074 ,  0.027536463 ])\n",
    "print(\"Mean for 3 threads: \" , np.mean(ParallelRuntime3thread))\n",
    "Means2.append(np.mean(ParallelRuntime3thread))\n",
    "\n",
    "ParallelRuntime4thread = np.array([0.027741464 ,0.027576519 ,0.027143283 ,0.028081245 ,0.027403603 ,0.026376495\n",
    "                                   ,0.026628641 , 0.026745076 ,0.027484163 ,0.027546241 ])\n",
    "print(\"Mean for 4 threads: \" , np.mean(ParallelRuntime4thread))\n",
    "Means2.append(np.mean(ParallelRuntime4thread))\n",
    "\n",
    "ParallelRuntime5thread = np.array([ 0.03064466,0.027949753 ,0.029497594 ,0.027502955 ,0.027313693 , 0.029614132 ,\n",
    "                                    0.027701901 ,0.029303004 ,0.027952368 ,0.02888225])\n",
    "print(\"Mean for 5 threads: \" , np.mean(ParallelRuntime5thread))\n",
    "Means2.append(np.mean(ParallelRuntime5thread))\n",
    "\n",
    "ParallelRuntime6thread = np.array([0.032842513 ,0.029381082 ,0.030637387 ,0.02909684 ,0.03084039 ,0.029896895 ,0.028921102 ,\n",
    "                                   0.030166493 ,0.029903664 ,0.029769006 ])\n",
    "print(\"Mean for 6 threads: \" , np.mean(ParallelRuntime6thread))\n",
    "Means2.append(np.mean(ParallelRuntime6thread))\n",
    "\n",
    "ParallelRuntime7thread = np.array([0.032977129 ,0.033287858 ,0.030478375 ,0.032204896 ,0.030722481 ,0.031827244\n",
    "                                   , 0.03058278 ,0.030654801 ,0.032181477 ,0.031261805 ])\n",
    "print(\"Mean for 7 threads: \" , np.mean(ParallelRuntime7thread))\n",
    "Means2.append(np.mean(ParallelRuntime7thread))\n",
    "\n",
    "ParallelRuntime8thread = np.array([0.032769697 ,0.034002749 ,0.033885249 ,0.034860934 ,0.033592072 ,0.035885524 \n",
    "                                   ,0.034995374 , 0.033942365 , 0.0318859 ,0.032676348 ])\n",
    "print(\"Mean for 8 threads: \" , np.mean(ParallelRuntime8thread))\n",
    "Means2.append(np.mean(ParallelRuntime8thread))\n",
    "\n",
    "print(Means2)"
   ]
  },
  {
   "cell_type": "code",
   "execution_count": 56,
   "metadata": {},
   "outputs": [
    {
     "data": {
      "image/png": "[encoded data removed]",
      "text/plain": [
       "<Figure size 432x288 with 1 Axes>"
      ]
     },
     "metadata": {},
     "output_type": "display_data"
    }
   ],
   "source": [
    "fig = plt.figure()\n",
    "fig.suptitle(\"Time taken for First Iteration of parallel program\")\n",
    "\n",
    "plt.plot(Threads, Means, label = 'Iteration 1')\n",
    "plt.plot(Threads, Means2, label = 'Iteration 2')\n",
    "\n",
    "plt.xlabel('Threads')\n",
    "plt.ylabel('Time Taken (s)')\n",
    "\n",
    "plt.legend()\n",
    "plt.show()"
   ]
  },
  {
   "cell_type": "code",
   "execution_count": null,
   "metadata": {},
   "outputs": [],
   "source": []
  }
 ],
 "metadata": {
  "kernelspec": {
   "display_name": "Python 3",
   "language": "python",
   "name": "python3"
  },
  "language_info": {
   "codemirror_mode": {
    "name": "ipython",
    "version": 3
   },
   "file_extension": ".py",
   "mimetype": "text/x-python",
   "name": "python",
   "nbconvert_exporter": "python",
   "pygments_lexer": "ipython3",
   "version": "3.6.5"
  }
 },
 "nbformat": 4,
 "nbformat_minor": 2
}
